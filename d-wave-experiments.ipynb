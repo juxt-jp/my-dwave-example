{
 "cells": [
  {
   "cell_type": "markdown",
   "metadata": {},
   "source": [
    "# qubitの実験\n",
    "## はじめに\n",
    "ここではd-waveのqubitの簡単な実験をやって、量子ビットとイジング、quboの動きを確認する。\n",
    "少ないqubitで実験することにより、qubitのバイアスとカプラが与える影響について観察する。"
   ]
  },
  {
   "cell_type": "markdown",
   "metadata": {},
   "source": [
    "# ユーティリティ関数\n",
    "## print_result関数\n",
    "d-waveで実行した結果をプリントする関数である。"
   ]
  },
  {
   "cell_type": "code",
   "execution_count": 2,
   "metadata": {},
   "outputs": [],
   "source": [
    "from __future__ import print_function\n",
    "from dwave.system.samplers import DWaveSampler\n",
    "from dwave.system.composites import EmbeddingComposite\n",
    "\n",
    "def print_result(result):\n",
    "    R = iter(result)\n",
    "    E = iter(result.data())\n",
    "    for line in result:\n",
    "        sample = next(R)\n",
    "        data = next(E)\n",
    "        energy = data.energy\n",
    "        occurrences = data.num_occurrences\n",
    "        print(f'{energy},{sample}, {occurrences}')\n",
    "        #print(sample['s1'], sample['s2'], occurrences)"
   ]
  },
  {
   "cell_type": "code",
   "execution_count": 3,
   "metadata": {},
   "outputs": [],
   "source": [
    "import os\n",
    "os.environ[\"DWAVE_LOG_LEVEL\"] = \"TRACE\""
   ]
  },
  {
   "cell_type": "markdown",
   "metadata": {},
   "source": [
    "# 1 qubitでの実験\n",
    "## $H_0 = 1$の場合\n",
    "バイアスが1の場合、量子ビットは逆の-1になる。"
   ]
  },
  {
   "cell_type": "code",
   "execution_count": 3,
   "metadata": {},
   "outputs": [],
   "source": [
    "Q = {('s0'): 1}\n",
    "J = {}\n",
    "sampler = EmbeddingComposite(DWaveSampler()) \n",
    "result = sampler.sample_ising(Q,J, chain_strength=3, num_reads=1000)"
   ]
  },
  {
   "cell_type": "code",
   "execution_count": 4,
   "metadata": {},
   "outputs": [
    {
     "name": "stdout",
     "output_type": "stream",
     "text": [
      "-1.0,{'s0': -1}, 1000\n"
     ]
    }
   ],
   "source": [
    "print_result(result)"
   ]
  },
  {
   "cell_type": "markdown",
   "metadata": {},
   "source": [
    "## $H_0 = 0$の場合\n",
    "バイアスが0の場合は量子ビットはどちらにも振れるので、1になるか、-1になるか分らない。"
   ]
  },
  {
   "cell_type": "code",
   "execution_count": 11,
   "metadata": {},
   "outputs": [],
   "source": [
    "Q = {('s0'): 0}\n",
    "J = {}\n",
    "sampler = DWaveSampler(solver={'qpu': True})\n",
    "#sampler = EmbeddingComposite(DWaveSampler()) \n",
    "#result = sampler.sample_ising(Q,J, chain_strength=3, num_reads=1000)\n",
    "result = sampler.sample_ising(Q,J, num_reads=1000)"
   ]
  },
  {
   "cell_type": "code",
   "execution_count": 12,
   "metadata": {},
   "outputs": [],
   "source": [
    "print_result(result)"
   ]
  },
  {
   "cell_type": "markdown",
   "metadata": {},
   "source": [
    "## $H_0 = -1$の場合\n",
    "バイアスが-1の場合は量子ビットは逆向きの1となる。"
   ]
  },
  {
   "cell_type": "code",
   "execution_count": null,
   "metadata": {},
   "outputs": [],
   "source": [
    "Q = {('s0'): -1}\n",
    "J = {}\n",
    "sampler = EmbeddingComposite(DWaveSampler()) \n",
    "result = sampler.sample_ising(Q,J, chain_strength=3, num_reads=1000)"
   ]
  },
  {
   "cell_type": "code",
   "execution_count": null,
   "metadata": {},
   "outputs": [],
   "source": [
    "print_result(result)"
   ]
  },
  {
   "cell_type": "markdown",
   "metadata": {},
   "source": [
    "# 2 qubitsでの実験\n",
    "2qubits以上の実験では、量子ビット間の相互作用であるカプラの効果を試す。\n",
    "## $J_{01} = 1$ だと $s_0$ と $s_1$ が逆になる\n",
    " $s_0$ と $s_1$に関して{1、 -1}{-1, 1}の2パターンが均等に発生するはず。"
   ]
  },
  {
   "cell_type": "code",
   "execution_count": 51,
   "metadata": {},
   "outputs": [],
   "source": [
    "Q = {'s0': 0, 's1': 0}\n",
    "J = {('s0','s1'): 1}\n",
    "sampler = EmbeddingComposite(DWaveSampler()) \n",
    "result = sampler.sample_ising(Q,J, chain_strength=3, num_reads=1000)"
   ]
  },
  {
   "cell_type": "code",
   "execution_count": 52,
   "metadata": {},
   "outputs": [
    {
     "name": "stdout",
     "output_type": "stream",
     "text": [
      "-1.0,{'s0': -1, 's1': 1}, 522\n",
      "-1.0,{'s0': 1, 's1': -1}, 478\n"
     ]
    }
   ],
   "source": [
    "print_result(result)"
   ]
  },
  {
   "cell_type": "markdown",
   "metadata": {},
   "source": [
    "# さらに$s_0$を1にする\n",
    "$s_0$を1にすると カプラーの効果で逆になるので、$s_1$は-1で安定する。"
   ]
  },
  {
   "cell_type": "code",
   "execution_count": 57,
   "metadata": {},
   "outputs": [],
   "source": [
    "Q = {'s0': -1, 's1': 0}\n",
    "J = {('s0','s1'): 1}\n",
    "sampler = EmbeddingComposite(DWaveSampler()) \n",
    "result = sampler.sample_ising(Q,J, chain_strength=3, num_reads=1000)"
   ]
  },
  {
   "cell_type": "code",
   "execution_count": 58,
   "metadata": {},
   "outputs": [
    {
     "name": "stdout",
     "output_type": "stream",
     "text": [
      "-2.0,{'s0': 1, 's1': -1}, 1000\n"
     ]
    }
   ],
   "source": [
    "print_result(result)"
   ]
  },
  {
   "cell_type": "markdown",
   "metadata": {},
   "source": [
    "### さらに$s_0$,$s_1$を1にする\n"
   ]
  },
  {
   "cell_type": "code",
   "execution_count": null,
   "metadata": {},
   "outputs": [],
   "source": [
    "Q = {'s0': -1, 's1': -1}\n",
    "J = {('s0','s1'): 1}\n",
    "sampler = EmbeddingComposite(DWaveSampler()) \n",
    "result = sampler.sample_ising(Q,J, chain_strength=3, num_reads=1000)"
   ]
  },
  {
   "cell_type": "code",
   "execution_count": null,
   "metadata": {},
   "outputs": [],
   "source": [
    "print_result(result)"
   ]
  },
  {
   "cell_type": "markdown",
   "metadata": {},
   "source": [
    "# $J_{01} = -1$ だと $s_0$ と $s_1$ が同じになる"
   ]
  },
  {
   "cell_type": "code",
   "execution_count": null,
   "metadata": {},
   "outputs": [],
   "source": [
    "from dwave.system.composites import EmbeddingComposite\n",
    "Q = {'s0': 0, 's1': 0}\n",
    "J = {('s0','s1'): -1}\n",
    "sampler = EmbeddingComposite(DWaveSampler()) \n",
    "result = sampler.sample_ising(Q,J, chain_strength=3, num_reads=1000)"
   ]
  },
  {
   "cell_type": "code",
   "execution_count": null,
   "metadata": {},
   "outputs": [],
   "source": [
    "print_result(result)"
   ]
  },
  {
   "cell_type": "markdown",
   "metadata": {},
   "source": [
    "# 3 qubitsの場合\n",
    "## ストレスをかけないとランダムになる\n",
    "$2^3 = 8$通りの組み合わせが発生する。"
   ]
  },
  {
   "cell_type": "code",
   "execution_count": null,
   "metadata": {},
   "outputs": [],
   "source": [
    "Q = {'s0': 0, 's1': 0, 's2': 0}\n",
    "J = {}\n",
    "sampler = EmbeddingComposite(DWaveSampler()) \n",
    "result = sampler.sample_ising(Q,J, chain_strength=3, num_reads=1000)"
   ]
  },
  {
   "cell_type": "code",
   "execution_count": null,
   "metadata": {},
   "outputs": [],
   "source": [
    "print_result(result)"
   ]
  },
  {
   "cell_type": "markdown",
   "metadata": {},
   "source": [
    "## $s_0$, $s_1$を-1にする\n",
    "$s_2$は1か-1になる。chain_strengthを変えて出現頻度を均等にする。"
   ]
  },
  {
   "cell_type": "code",
   "execution_count": null,
   "metadata": {},
   "outputs": [],
   "source": [
    "Q = {'s0': 1, 's1': 1, 's2': 0}\n",
    "J = {}\n",
    "sampler = EmbeddingComposite(DWaveSampler()) \n",
    "result = sampler.sample_ising(Q,J, chain_strength=4.0, num_reads=10000)"
   ]
  },
  {
   "cell_type": "code",
   "execution_count": null,
   "metadata": {},
   "outputs": [],
   "source": [
    "print_result(result)"
   ]
  },
  {
   "cell_type": "markdown",
   "metadata": {},
   "source": [
    "# 4 qubitsの場合\n",
    "ストレスをかけないとやはりランダムになる\n",
    "$2^4 = 16$通りの組み合わせが発生する。"
   ]
  },
  {
   "cell_type": "code",
   "execution_count": 61,
   "metadata": {},
   "outputs": [],
   "source": [
    "Q = {'s0': 0, 's1': 0, 's2': 0, 's3': 0}\n",
    "J = {}\n",
    "sampler = EmbeddingComposite(DWaveSampler()) \n",
    "result = sampler.sample_ising(Q,J, chain_strength=3.5, num_reads=1000)"
   ]
  },
  {
   "cell_type": "code",
   "execution_count": 62,
   "metadata": {},
   "outputs": [
    {
     "name": "stdout",
     "output_type": "stream",
     "text": [
      "0.0,{'s0': -1, 's1': -1, 's2': 1, 's3': -1}, 58\n",
      "0.0,{'s0': -1, 's1': -1, 's2': -1, 's3': 1}, 64\n",
      "0.0,{'s0': 1, 's1': 1, 's2': -1, 's3': 1}, 71\n",
      "0.0,{'s0': 1, 's1': -1, 's2': -1, 's3': -1}, 94\n",
      "0.0,{'s0': -1, 's1': -1, 's2': 1, 's3': 1}, 32\n",
      "0.0,{'s0': 1, 's1': 1, 's2': 1, 's3': -1}, 40\n",
      "0.0,{'s0': 1, 's1': 1, 's2': 1, 's3': 1}, 35\n",
      "0.0,{'s0': -1, 's1': -1, 's2': -1, 's3': -1}, 121\n",
      "0.0,{'s0': 1, 's1': 1, 's2': -1, 's3': -1}, 88\n",
      "0.0,{'s0': -1, 's1': 1, 's2': -1, 's3': -1}, 98\n",
      "0.0,{'s0': -1, 's1': 1, 's2': -1, 's3': 1}, 62\n",
      "0.0,{'s0': -1, 's1': 1, 's2': 1, 's3': 1}, 29\n",
      "0.0,{'s0': -1, 's1': 1, 's2': 1, 's3': -1}, 62\n",
      "0.0,{'s0': 1, 's1': -1, 's2': 1, 's3': 1}, 27\n",
      "0.0,{'s0': 1, 's1': -1, 's2': -1, 's3': 1}, 59\n",
      "0.0,{'s0': 1, 's1': -1, 's2': 1, 's3': -1}, 60\n"
     ]
    }
   ],
   "source": [
    "print_result(result)"
   ]
  }
 ],
 "metadata": {
  "kernelspec": {
   "display_name": "Python 3",
   "language": "python",
   "name": "python3"
  },
  "language_info": {
   "codemirror_mode": {
    "name": "ipython",
    "version": 3
   },
   "file_extension": ".py",
   "mimetype": "text/x-python",
   "name": "python",
   "nbconvert_exporter": "python",
   "pygments_lexer": "ipython3",
   "version": "3.6.2"
  }
 },
 "nbformat": 4,
 "nbformat_minor": 2
}
