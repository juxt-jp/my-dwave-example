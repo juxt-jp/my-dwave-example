{
 "cells": [
  {
   "cell_type": "code",
   "execution_count": 9,
   "metadata": {},
   "outputs": [],
   "source": [
    "from __future__ import print_function\n",
    "from dwave.system.samplers import DWaveSampler\n",
    "#from dwave.system.composites import EmbeddingComposite\n",
    "\n",
    "def concat_QJ(Q, J):\n",
    "    U = {}\n",
    "    U.update(Q)\n",
    "    U.update(J)\n",
    "    return U\n",
    "\n",
    "def print_result(result):\n",
    "    R = iter(result)\n",
    "    E = iter(result.data())\n",
    "    for line in result:\n",
    "        sample = next(R)\n",
    "        data = next(E)\n",
    "        energy = data.energy\n",
    "        occurrences = data.num_occurrences\n",
    "        print(f'{energy},{sample}, {occurrences}')"
   ]
  },
  {
   "cell_type": "markdown",
   "metadata": {},
   "source": [
    "## d-waveで$1 + 1$ を解く\n",
    "まずは予行演習として $1 + 1$を解いてみる。\n",
    "$1 + 1 = x$ となるようなxを求める。QUBOにおいて足し算は上記右辺から左辺を引いてその最小値を求めることなる。すなわち\n",
    "\n",
    "$ E = (x-2)^2 $\n",
    "\n",
    "こちらを展開すると、"
   ]
  },
  {
   "cell_type": "code",
   "execution_count": 2,
   "metadata": {},
   "outputs": [],
   "source": [
    "%matplotlib inline\n",
    "from sympy import *\n",
    "init_printing()\n",
    "from sympy.printing.mathml import print_mathml"
   ]
  },
  {
   "cell_type": "code",
   "execution_count": 20,
   "metadata": {},
   "outputs": [
    {
     "data": {
      "image/png": "[encoded data removed]",
      "text/latex": [
       "$$x^{2} - 4 x + 4$$"
      ],
      "text/plain": [
       " 2          \n",
       "x  - 4⋅x + 4"
      ]
     },
     "execution_count": 20,
     "metadata": {},
     "output_type": "execute_result"
    }
   ],
   "source": [
    "x = Symbol('x')\n",
    "q0,q1 = symbols(\"q0 q1\")\n",
    "E = (x-2)**2\n",
    "expand(E)"
   ]
  },
  {
   "cell_type": "markdown",
   "metadata": {},
   "source": [
    "すると上記の式が得られる。こxは量子ビットを使って、$x = q0 + 2q1$\n",
    "という二進数表記ができるので、xを代入すると、"
   ]
  },
  {
   "cell_type": "code",
   "execution_count": 21,
   "metadata": {},
   "outputs": [
    {
     "data": {
      "image/png": "[encoded data removed]",
      "text/latex": [
       "$$q_{0}^{2} + 4 q_{0} q_{1} - 4 q_{0} + 4 q_{1}^{2} - 8 q_{1} + 4$$"
      ],
      "text/plain": [
       "  2                        2           \n",
       "q₀  + 4⋅q₀⋅q₁ - 4⋅q₀ + 4⋅q₁  - 8⋅q₁ + 4"
      ]
     },
     "execution_count": 21,
     "metadata": {},
     "output_type": "execute_result"
    }
   ],
   "source": [
    "H= E.subs([(x, q0 + 2*q1)])\n",
    "Hdash = expand(H)\n",
    "Hdash"
   ]
  },
  {
   "cell_type": "code",
   "execution_count": 22,
   "metadata": {},
   "outputs": [
    {
     "data": {
      "image/png": "[encoded data removed]",
      "text/latex": [
       "$$4 q_{0} q_{1} - 3 q_{0} - 4 q_{1} + 4$$"
      ],
      "text/plain": [
       "4⋅q₀⋅q₁ - 3⋅q₀ - 4⋅q₁ + 4"
      ]
     },
     "execution_count": 22,
     "metadata": {},
     "output_type": "execute_result"
    }
   ],
   "source": [
    "Hdash.subs([(q0**2, q0),(q1**2, q1)])"
   ]
  },
  {
   "cell_type": "markdown",
   "metadata": {},
   "source": [
    "となる。QUBOはバイナリ値{0,1}を取るので、二乗の項はすべて指数がとれる。また定数項は不要である。すなわち\n",
    "$q0^2 = q0$\n",
    "$q1^2 = q1$\n",
    "より、\n",
    "$H = -3q0 + 4q0q1 - 4q1 +4$\n",
    "となる。従ってqubo行列は以下の通りとなる。"
   ]
  },
  {
   "cell_type": "code",
   "execution_count": 10,
   "metadata": {},
   "outputs": [],
   "source": [
    "from dwave.system.composites import EmbeddingComposite\n",
    "Q = {('s0','s0'): -3, ('s1','s1'): -4}\n",
    "J = {('s0','s1'): 4}\n",
    "U = concat_QJ(Q, J)\n",
    "sampler = EmbeddingComposite(DWaveSampler()) \n",
    "result = sampler.sample_qubo(U, chain_strength=3, num_reads=1000)"
   ]
  },
  {
   "cell_type": "code",
   "execution_count": 12,
   "metadata": {},
   "outputs": [
    {
     "name": "stdout",
     "output_type": "stream",
     "text": [
      "-4.0,{'s0': 0, 's1': 1}, 999\n",
      "-3.0,{'s0': 1, 's1': 1}, 1\n"
     ]
    }
   ],
   "source": [
    "print_result(result)"
   ]
  },
  {
   "cell_type": "markdown",
   "metadata": {},
   "source": [
    "QUBOでq0=1,q1=1となったので、1+1の答えは、\n",
    "$1 + 1 = 0 + 2 ^ 1 = 2$\n",
    "となる。"
   ]
  },
  {
   "cell_type": "markdown",
   "metadata": {},
   "source": [
    "同様に2+1を解いてみる。\n",
    "$2 + 1 = 3$ となるようなxを求める。エネルギー関数は以下の通りである。\n",
    "\n",
    "$ E = (x-3)^2 $\n",
    "\n",
    "こちらを展開すると、"
   ]
  },
  {
   "cell_type": "code",
   "execution_count": 26,
   "metadata": {},
   "outputs": [
    {
     "data": {
      "image/png": "[encoded data removed]",
      "text/latex": [
       "$$x^{2} - 6 x + 9$$"
      ],
      "text/plain": [
       " 2          \n",
       "x  - 6⋅x + 9"
      ]
     },
     "execution_count": 26,
     "metadata": {},
     "output_type": "execute_result"
    }
   ],
   "source": [
    "x = Symbol('x')\n",
    "q0,q1 = symbols(\"q0 q1\")\n",
    "E = (x-3)**2\n",
    "expand(E)"
   ]
  },
  {
   "cell_type": "markdown",
   "metadata": {},
   "source": [
    "すると上記の式が得られる。同様にxは量子ビットを使って、$x = q0 + 2q1$\n",
    "という二進数表記ができるので、xを代入すると、"
   ]
  },
  {
   "cell_type": "code",
   "execution_count": 27,
   "metadata": {},
   "outputs": [
    {
     "data": {
      "image/png": "[encoded data removed]",
      "text/latex": [
       "$$q_{0}^{2} + 4 q_{0} q_{1} - 6 q_{0} + 4 q_{1}^{2} - 12 q_{1} + 9$$"
      ],
      "text/plain": [
       "  2                        2            \n",
       "q₀  + 4⋅q₀⋅q₁ - 6⋅q₀ + 4⋅q₁  - 12⋅q₁ + 9"
      ]
     },
     "execution_count": 27,
     "metadata": {},
     "output_type": "execute_result"
    }
   ],
   "source": [
    "H= E.subs([(x, q0 + 2 * q1)])\n",
    "Hdash = expand(H)\n",
    "Hdash"
   ]
  },
  {
   "cell_type": "code",
   "execution_count": 28,
   "metadata": {},
   "outputs": [
    {
     "data": {
      "image/png": "[encoded data removed]",
      "text/latex": [
       "$$4 q_{0} q_{1} - 5 q_{0} - 8 q_{1} + 9$$"
      ],
      "text/plain": [
       "4⋅q₀⋅q₁ - 5⋅q₀ - 8⋅q₁ + 9"
      ]
     },
     "execution_count": 28,
     "metadata": {},
     "output_type": "execute_result"
    }
   ],
   "source": [
    "Hdash.subs([(q0**2, q0),(q1**2, q1)])"
   ]
  },
  {
   "cell_type": "markdown",
   "metadata": {},
   "source": [
    "$q0^2 = q0$\n",
    "$q1^2 = q1$\n",
    "より、\n",
    "\n",
    "$H = -5q0 + 4q0q1 - 8q1 +9$\n",
    "定数項を無視すると\n",
    "$H = -5q0 + 4q0q1 - 8q1$\n",
    "となる。"
   ]
  },
  {
   "cell_type": "code",
   "execution_count": 16,
   "metadata": {},
   "outputs": [],
   "source": [
    "from dwave.system.composites import EmbeddingComposite\n",
    "Q = {('s0','s0'): -5, ('s1','s1'): -8}\n",
    "J = {('s0','s1'): 4}\n",
    "U = concat_QJ(Q, J)\n",
    "sampler = EmbeddingComposite(DWaveSampler()) \n",
    "result = sampler.sample_qubo(U, chain_strength=3, num_reads=1000)"
   ]
  },
  {
   "cell_type": "code",
   "execution_count": 17,
   "metadata": {},
   "outputs": [
    {
     "name": "stdout",
     "output_type": "stream",
     "text": [
      "-9.0,{'s0': 1, 's1': 1}, 994\n",
      "-8.0,{'s0': 0, 's1': 1}, 6\n"
     ]
    }
   ],
   "source": [
    "print_result(result)"
   ]
  },
  {
   "cell_type": "markdown",
   "metadata": {},
   "source": [
    "QUBOでq0=1,q1=1となったので、1+1の答えは、\n",
    "\n",
    "$1 + 1 = 1 + 2 ^ 1 = 3$\n",
    "\n",
    "となる。"
   ]
  },
  {
   "cell_type": "code",
   "execution_count": null,
   "metadata": {},
   "outputs": [],
   "source": []
  }
 ],
 "metadata": {
  "kernelspec": {
   "display_name": "Python 3",
   "language": "python",
   "name": "python3"
  },
  "language_info": {
   "codemirror_mode": {
    "name": "ipython",
    "version": 3
   },
   "file_extension": ".py",
   "mimetype": "text/x-python",
   "name": "python",
   "nbconvert_exporter": "python",
   "pygments_lexer": "ipython3",
   "version": "3.6.2"
  }
 },
 "nbformat": 4,
 "nbformat_minor": 2
}
